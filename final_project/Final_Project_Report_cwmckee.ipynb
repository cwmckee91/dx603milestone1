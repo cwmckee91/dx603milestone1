{
 "cells": [
  {
   "cell_type": "markdown",
   "id": "706edba9-eb08-4f57-bcc5-a1bb7024f068",
   "metadata": {},
   "source": [
    "# Project Final Report\n",
    "\n",
    "### Due: Midnight on April 27 (2-hour grace period) — 50 points  \n",
    "\n",
    "### No late submissions will be accepted.\n",
    "\n",
    "\n",
    "## Overview\n",
    "\n",
    "Your final submission consists of **three components**:\n",
    "\n",
    "---\n",
    "\n",
    "### 1. Final Report Notebook [40 pts]\n",
    "\n",
    "Complete all sections of this notebook to document your final decisions, results, and broader context.\n",
    "\n",
    "- **Part A**: Select the single best model from your Milestone 2 experiments. Now that you’ve finalized your model, revisit your decisions from Milestones 1 and 2. Are there any steps you would change—such as cleaning, feature engineering, or model evaluation—given what you now know?\n",
    "\n",
    "- **Part B**: Write a technical report following standard conventions, for example:\n",
    "  - [CMU guide to structure](https://www.stat.cmu.edu/~brian/701/notes/paper-structure.pdf)\n",
    "  - [Data science report example](https://www.projectpro.io/article/data-science-project-report/620)\n",
    "  - The Checklist given in this week's Blackboard Lesson (essentially the same as in HOML).\n",
    "    \n",
    "  Your audience here is technically literate but unfamiliar with your work—like your manager or other data scientists. Be clear, precise, and include both code (for illustration), charts/plots/illustrations, and explanation of what you discovered and your reasoning process. \n",
    "\n",
    "The idea here is that Part A would be a repository of the most important code, for further work to come, and Part B is\n",
    "the technical report which summarizes your project for the data science group at your company. Do NOT assume that readers of Part B are intimately familiar with Part A; provide code for illustration as needed, but not to run.\n",
    "\n",
    "Submit this notebook as a group via your team leader’s Gradescope account.\n",
    "\n",
    "---\n",
    "\n",
    "### 2. PowerPoint Presentation [10 pts]\n",
    "\n",
    "Create a 10–15 minute presentation designed for a general audience (e.g., sales or marketing team).\n",
    "\n",
    "- Prepare 8–12 slides, following the general outline of the sections of Part B. \n",
    "- Focus on storytelling, visuals (plots and illustrations), and clear, simplified language. No code!\n",
    "- Use any presentation tool you like, but upload a PDF version.\n",
    "- List all team members on the first slide.\n",
    "\n",
    "Submit as a group via your team leader’s Gradescope account.\n",
    "\n",
    "---\n",
    "\n",
    "### 3. Individual Assessment\n",
    "\n",
    "Each team member must complete the Individual Assessment Form (same as in Milestone 1), sign it, and upload it via their own Gradescope account.\n",
    "\n",
    "---\n",
    "\n",
    "## Submission Checklist\n",
    "\n",
    "-  Final Report Notebook — Team leader submission\n",
    "-  PDF Slides — Team leader submission\n",
    "-  Individual Assessment Form — Each member submits their own\n"
   ]
  },
  {
   "cell_type": "markdown",
   "id": "99ee15ea-7cf4-4d57-b83a-18f186f0d204",
   "metadata": {},
   "source": [
    "## Part A: Final Model and Design Reassessment [10 pts]\n",
    "\n",
    "In this part, you will finalize your best-performing model and revisit earlier decisions to determine if any should be revised in light of your complete modeling workflow. You’ll also consolidate and present the key code used to run your model on the preprocessed dataset, with thoughtful documentation of your reasoning.\n",
    "\n",
    "**Requirements:**\n",
    "\n",
    "- Reconsider **at least one decision from Milestone 1** (e.g., preprocessing, feature engineering, or encoding). Explain whether you would keep or revise that decision now that you know which model performs best. Justify your reasoning.\n",
    "  \n",
    "- Reconsider **at least one decision from Milestone 2** (e.g., model evaluation, cross-validation strategy, or feature selection). Again, explain whether you would keep or revise your original decision, and why.\n",
    "\n",
    "- Below, include all code necessary to **run your final model** on the processed dataset. This section should be a clean, readable summary of the most important steps from Milestones 1 and 2, adapted as needed to fit your final model choice and your reconsiderations as just described. \n",
    "\n",
    "- Use Markdown cells and inline comments to explain the structure of the code clearly but concisely. The goal is to make your reasoning and process easy to follow for instructors and reviewers.\n",
    "\n",
    "> Remember: You are not required to change your earlier choices, but you *are* required to reflect on them and justify your final decisions.\n"
   ]
  },
  {
   "cell_type": "markdown",
   "id": "cc3b46eb",
   "metadata": {},
   "source": [
    "### Reconsider **at least one decision from Milestone 1** (e.g., preprocessing, feature engineering, or encoding). Explain whether you would keep or revise that decision now that you know which model performs best. Justify your reasoning. ###\n",
    "\n",
    "\n",
    "Since our tuned Gradient Boosting model delivered the lowest RMSE and the most consistent cross-validation performance in Milestone 2, we would optimize our feature encoding to suit its strengths. In Milestone 1 we one-hot encoded every neighborhood, which inflated our feature set to over 500 sparse columns. Instead, we would first group any neighborhood appearing in less than 1 % of records into an “Other” category, then replace each remaining neighborhood label with a smoothed average of its homes’ tax-assessed values (using a small smoothing constant to pull noisy, small-sample means toward the overall mean).\n",
    "\n",
    "This approach would produce a single numeric “neighborhood_encoded” feature instead of hundreds of dummies, preserving location information while speeding up Gradient Boosting training and reducing overfitting and computational overhead."
   ]
  },
  {
   "cell_type": "code",
   "execution_count": null,
   "id": "841d447d",
   "metadata": {},
   "outputs": [],
   "source": [
    "# Previous Milestone 1 code\n",
    "\n",
    "categorical_cols = df_modeling_clean.select_dtypes(include=['object', 'category']).columns.tolist()\n",
    "print(\"Categorical columns to encode:\", categorical_cols)\n",
    "\n",
    "# One-hot encode regionidneighborhood\n",
    "df_encoded = pd.get_dummies(df_modeling_clean, columns=categorical_cols, drop_first=True)\n",
    "\n",
    "print(\"Final shape after encoding:\", df_encoded.shape)\n",
    "# Final shape after encoding: (76525, 509)"
   ]
  },
  {
   "cell_type": "markdown",
   "id": "532adf24",
   "metadata": {},
   "source": [
    "### Reconsider **at least one decision from Milestone 2** (e.g., model evaluation, cross-validation strategy, or feature selection). Again, explain whether you would keep or revise your original decision, and why. ###\n",
    "\n",
    "In Milestone 2 we evaluated and tuned our models using a 5-fold cross-validation scheme, and our final Gradient Boosting model yielded an average RMSE of $176,484 with a standard deviation of about $1,066—clearly outperforming the other candidates. Because those five folds already give us a tight error distribution, they provide a reliable estimate of how the model will perform on new data.\n",
    "\n",
    "Keeping 5-fold CV makes sense for a few reasons:\n",
    "\n",
    "1. Efficiency vs. Benefit: Doubling to 10 folds or layering in repeats would ~double or triple our compute time—turning a 20-minute grid search into 40–60 minutes—while only shaving off a few dollars in error variance\n",
    "\n",
    "2. Bias–Variance Tradeoff: With 5 splits we already strike an effective balance - more folds reduce bias but increase variance in small datasets, and here the variance is already small\n",
    "\n",
    "3. Reproducibility and Consistency: All of our hyperparameter tuning, feature-selection experiments, and performance comparisons used the same 5-fold split structure. Changing that at the end could introduce subtle shifts in which hyperparameters look best\n",
    "\n",
    "As a result, we would leave our original 5-fold CV strategy unchanged for the final workflow."
   ]
  },
  {
   "cell_type": "code",
   "execution_count": null,
   "id": "b228aa6e",
   "metadata": {},
   "outputs": [],
   "source": [
    "# Previous Milestone 2 code\n",
    "\n",
    "gb_grid = {\n",
    "    \"n_estimators\":   [100, 200],\n",
    "    \"max_depth\":      [3, 5],\n",
    "    \"learning_rate\":  [0.05, 0.1],\n",
    "    \"subsample\":      [0.8, 1.0]\n",
    "}\n",
    "\n",
    "gb = GradientBoostingRegressor(random_state=random_state)\n",
    "X_gb = scaler.fit_transform(X_train_fe[gb_features])\n",
    "\n",
    "gb_cv = GridSearchCV(\n",
    "    estimator=gb,\n",
    "    param_grid=gb_grid,\n",
    "    scoring=\"neg_root_mean_squared_error\",\n",
    "    cv=5,\n",
    "    n_jobs=-1\n",
    ")\n",
    "gb_cv.fit(X_gb, y_train)\n",
    "\n",
    "print(f\"Best 5-fold CV RMSE: {-gb_cv.best_score_:.0f}\")\n",
    "print(\"Best params:\", gb_cv.best_params_)\n"
   ]
  },
  {
   "cell_type": "markdown",
   "id": "295f83da",
   "metadata": {},
   "source": [
    "### Below, include all code necessary to **run your final model** on the processed dataset. This section should be a clean, readable summary of the most important steps from Milestones 1 and 2, adapted as needed to fit your final model choice and your reconsiderations as just described. ###"
   ]
  },
  {
   "cell_type": "code",
   "execution_count": 3,
   "id": "318ed30b",
   "metadata": {},
   "outputs": [
    {
     "name": "stderr",
     "output_type": "stream",
     "text": [
      "/Users/chrismckee/Library/Python/3.9/lib/python/site-packages/urllib3/__init__.py:35: NotOpenSSLWarning: urllib3 v2 only supports OpenSSL 1.1.1+, currently the 'ssl' module is compiled with 'LibreSSL 2.8.3'. See: https://github.com/urllib3/urllib3/issues/3020\n",
      "  warnings.warn(\n",
      "/Users/chrismckee/Library/Python/3.9/lib/python/site-packages/tqdm/auto.py:21: TqdmWarning: IProgress not found. Please update jupyter and ipywidgets. See https://ipywidgets.readthedocs.io/en/stable/user_install.html\n",
      "  from .autonotebook import tqdm as notebook_tqdm\n"
     ]
    }
   ],
   "source": [
    "# =============================\n",
    "# Useful Imports\n",
    "# =============================\n",
    "\n",
    "# Standard Libraries\n",
    "import os\n",
    "import time\n",
    "import math\n",
    "import io\n",
    "import zipfile\n",
    "import requests\n",
    "from urllib.parse import urlparse\n",
    "from itertools import chain, combinations\n",
    "\n",
    "# Data Science Libraries\n",
    "import numpy as np\n",
    "import pandas as pd\n",
    "import seaborn as sns\n",
    "\n",
    "# Visualization\n",
    "import matplotlib.pyplot as plt\n",
    "import matplotlib.patches as patches\n",
    "import matplotlib.ticker as mticker  # Optional: Format y-axis labels as dollars\n",
    "\n",
    "# Scikit-learn (Machine Learning)\n",
    "from sklearn.model_selection import (\n",
    "    train_test_split,\n",
    "    cross_val_score,\n",
    "    GridSearchCV,\n",
    "    RandomizedSearchCV,\n",
    "    RepeatedKFold\n",
    ")\n",
    "from sklearn.preprocessing import StandardScaler, OrdinalEncoder\n",
    "from sklearn.impute import SimpleImputer\n",
    "from sklearn.metrics import mean_squared_error\n",
    "from sklearn.feature_selection import SequentialFeatureSelector, f_regression, SelectKBest\n",
    "from sklearn.datasets import make_regression\n",
    "from sklearn.ensemble import BaggingRegressor, RandomForestRegressor, GradientBoostingRegressor\n",
    "\n",
    "# Kaggle and Progress Tracking\n",
    "import kagglehub\n",
    "from tqdm import tqdm\n",
    "\n",
    "# =============================\n",
    "# Global Variables\n",
    "# =============================\n",
    "random_state = 42\n",
    "\n",
    "# =============================\n",
    "# Utility Functions\n",
    "# =============================\n",
    "\n",
    "# Format y-axis labels as dollars with commas (optional)\n",
    "def dollar_format(x, pos):\n",
    "    return f'${x:,.0f}'\n",
    "\n",
    "# Convert seconds to HH:MM:SS format\n",
    "def format_hms(seconds):\n",
    "    return time.strftime(\"%H:%M:%S\", time.gmtime(seconds))\n",
    "\n",
    "\n"
   ]
  },
  {
   "cell_type": "code",
   "execution_count": 5,
   "id": "6e2bd050",
   "metadata": {},
   "outputs": [
    {
     "name": "stdout",
     "output_type": "stream",
     "text": [
      "File already exists. Skipping download.\n"
     ]
    }
   ],
   "source": [
    "url = \"https://www.cs.bu.edu/fac/snyder/cs505/Data/zillow_dataset.csv\"\n",
    "\n",
    "filename = os.path.basename(urlparse(url).path)\n",
    "\n",
    "if not os.path.exists(filename):\n",
    "    try:\n",
    "        print(\"Downloading the file...\")\n",
    "        response = requests.get(url)\n",
    "        response.raise_for_status()  # Raise an error for bad status codes\n",
    "        with open(filename, \"wb\") as f:\n",
    "            f.write(response.content)\n",
    "        print(\"File downloaded successfully.\")\n",
    "    except requests.exceptions.RequestException as e:\n",
    "        print(f\"Error downloading the file: {e}\")\n",
    "else:\n",
    "    print(\"File already exists. Skipping download.\")\n",
    "\n",
    "df = pd.read_csv(filename)\n",
    "\n",
    "# df.to_csv(\"zillow_dataset_cleaned.csv\", index=False)\n"
   ]
  },
  {
   "cell_type": "markdown",
   "id": "94d431b9",
   "metadata": {},
   "source": [
    "We start by making a dedicated copy of the original DataFrame for our regression task, then remove columns that are purely identifiers or unlikely to influence tax value (parcel IDs, census block codes, zoning descriptions, fireplace flag, assessment year) so the model only sees relevant, predictive features."
   ]
  },
  {
   "cell_type": "code",
   "execution_count": 6,
   "id": "a454533b",
   "metadata": {},
   "outputs": [],
   "source": [
    "# Make a copy of the original dataset to use for the regression task\n",
    "df_regression = df.copy()\n",
    "\n",
    "columns_to_remove = [\n",
    "    'parcelid',\n",
    "    'rawcensustractandblock',\n",
    "    'censustractandblock',\n",
    "    'propertyzoningdesc',\n",
    "    'propertycountylandusecode',\n",
    "    'fireplaceflag',\n",
    "    'assessmentyear'\n",
    "]\n",
    "\n",
    "# Drop the features from the new dataset\n",
    "df_regression.drop(columns=columns_to_remove, inplace=True)"
   ]
  },
  {
   "cell_type": "markdown",
   "id": "84d34717",
   "metadata": {},
   "source": [
    "Here we calculate the percentage of missing values in each column of `df_regression`, identify any fields with over 95 % nulls, and then drop them. This ensures we remove features that have almost no data and would add noise or complicate imputation, leaving only columns with enough observations to be useful for modeling.\n"
   ]
  },
  {
   "cell_type": "code",
   "execution_count": 9,
   "id": "1d0aa5a1",
   "metadata": {},
   "outputs": [
    {
     "name": "stdout",
     "output_type": "stream",
     "text": [
      "Features with \"too many\" nulls (>95%):\n",
      "\n",
      "architecturalstyletypeid    99.73\n",
      "basementsqft                99.94\n",
      "buildingclasstypeid         99.98\n",
      "decktypeid                  99.21\n",
      "finishedsquarefeet13        99.95\n",
      "finishedsquarefeet15        96.10\n",
      "finishedsquarefeet6         99.50\n",
      "hashottuborspa              98.02\n",
      "poolsizesum                 98.88\n",
      "pooltypeid10                99.40\n",
      "pooltypeid2                 98.62\n",
      "storytypeid                 99.94\n",
      "typeconstructiontypeid      99.71\n",
      "yardbuildingsqft17          96.92\n",
      "yardbuildingsqft26          99.91\n",
      "taxdelinquencyflag          96.26\n",
      "taxdelinquencyyear          96.26\n",
      "dtype: float64\n",
      "\n",
      "df_modeling created. New shape: (77613, 31)\n"
     ]
    }
   ],
   "source": [
    "null_percent = (df_regression.isnull().sum() / len(df_regression) * 100).round(2)\n",
    "\n",
    "# > 95% null\n",
    "too_many_nulls = null_percent[null_percent > 95]\n",
    "print(\"Features with \\\"too many\\\" nulls (>95%):\\n\")\n",
    "print(too_many_nulls)\n",
    "\n",
    "df_modeling = df_regression.drop(columns=too_many_nulls.index.tolist())\n",
    "print(f\"\\ndf_modeling created. New shape: {df_modeling.shape}\")\n",
    "\n"
   ]
  },
  {
   "cell_type": "markdown",
   "id": "41ccdddf",
   "metadata": {},
   "source": [
    "We dropped a handful of features that were missing in more than 95% of the rows. At that point, there just isn’t enough usable data to make those columns worth keeping. For example, columns like `basementsqft` and `finishedsquarefeet13` only had values in a tiny fraction of the dataset. We didn’t think it made sense to try and fill in that many blanks, since it probably wouldn’t be reliable. Dropping those features felt like the cleaner option and helps keep the dataset focused on the columns that actually have enough data to work with."
   ]
  },
  {
   "cell_type": "code",
   "execution_count": 10,
   "id": "6ac8e9ef",
   "metadata": {},
   "outputs": [
    {
     "name": "stdout",
     "output_type": "stream",
     "text": [
      "Number of rows removed for missing key features: 315\n",
      "New shape of cleaned dataset: (77298, 31)\n"
     ]
    }
   ],
   "source": [
    "# Drop rows missing key features\n",
    "key_features = [\n",
    "    'taxvaluedollarcnt',\n",
    "    'calculatedfinishedsquarefeet',\n",
    "    'bedroomcnt',\n",
    "    'yearbuilt'\n",
    "]\n",
    "\n",
    "df_modeling_clean = df_modeling.dropna(subset=key_features)\n",
    "\n",
    "# Show the number of rows removed\n",
    "rows_removed = df_modeling.shape[0] - df_modeling_clean.shape[0]\n",
    "print(f\"Number of rows removed for missing key features: {rows_removed}\")\n",
    "print(f\"New shape of cleaned dataset: {df_modeling_clean.shape}\")\n"
   ]
  },
  {
   "cell_type": "markdown",
   "id": "5b9b7b06",
   "metadata": {},
   "source": [
    "Next, we remove extreme outliers by dropping any properties with tax‐assessed values above the 99th percentile (≈\\$2.7 M). This eliminates 773 rows and reduces our dataset from 77,298 to 76,525 observations, preventing a handful of ultra‐high values from skewing the model.\n"
   ]
  },
  {
   "cell_type": "code",
   "execution_count": 11,
   "id": "2e2e9dd3",
   "metadata": {},
   "outputs": [
    {
     "name": "stdout",
     "output_type": "stream",
     "text": [
      "99th percentile value: 2716479.51\n",
      "Rows above this value: 773\n",
      "Shape before dropping: (77298, 31)\n",
      "Shape after dropping: (76525, 31)\n"
     ]
    }
   ],
   "source": [
    "# Removing outliers, 99th percentile of the target\n",
    "upper_limit = df_modeling_clean['taxvaluedollarcnt'].quantile(0.99)\n",
    "\n",
    "num_above_threshold = (df_modeling_clean['taxvaluedollarcnt'] > upper_limit).sum()\n",
    "print(\"99th percentile value:\", upper_limit)\n",
    "print(\"Rows above this value:\", num_above_threshold)\n",
    "print(\"Shape before dropping:\", df_modeling_clean.shape)\n",
    "\n",
    "df_modeling_clean = df_modeling_clean[df_modeling_clean['taxvaluedollarcnt'] <= upper_limit]\n",
    "print(\"Shape after dropping:\", df_modeling_clean.shape)\n",
    "\n"
   ]
  },
  {
   "cell_type": "markdown",
   "id": "d5b13a52",
   "metadata": {},
   "source": [
    "Next, we inspect which columns still contain missing values and how many. This summary helps us decide the most appropriate imputation strategy (e.g., fill zero for counts, median for continuous, mode for categorical) in the following steps."
   ]
  },
  {
   "cell_type": "code",
   "execution_count": null,
   "id": "69407567",
   "metadata": {},
   "outputs": [],
   "source": [
    "missing_cols = df_modeling_clean.columns[df_modeling_clean.isnull().any()]\n",
    "missing_summary = df_modeling_clean[missing_cols].isnull().sum().sort_values(ascending=False)\n",
    "\n",
    "missing_summary"
   ]
  },
  {
   "cell_type": "markdown",
   "id": "f84c9841",
   "metadata": {},
   "source": [
    "Next, we impute all remaining missing values:  \n",
    "- Set nulls to 0 for count-based features (bathrooms, fireplaces, pools, garages).  \n",
    "- Fill continuous metrics with their median.  \n",
    "- Fill categorical codes with their mode.  \n",
    "- Default any missing neighborhoods to “Unknown.”  \n",
    "A final null-check ensures every column is now complete.\n"
   ]
  },
  {
   "cell_type": "code",
   "execution_count": 12,
   "id": "8fe56d35",
   "metadata": {},
   "outputs": [
    {
     "data": {
      "text/plain": [
       "airconditioningtypeid           0\n",
       "bathroomcnt                     0\n",
       "bedroomcnt                      0\n",
       "buildingqualitytypeid           0\n",
       "calculatedbathnbr               0\n",
       "finishedfloor1squarefeet        0\n",
       "calculatedfinishedsquarefeet    0\n",
       "finishedsquarefeet12            0\n",
       "finishedsquarefeet50            0\n",
       "fips                            0\n",
       "dtype: int64"
      ]
     },
     "execution_count": 12,
     "metadata": {},
     "output_type": "execute_result"
    }
   ],
   "source": [
    "# Impute missing vals based on methodology below:\n",
    "\n",
    "# Fill 0 where missing means \"none\"\n",
    "df_modeling_clean['threequarterbathnbr'] = df_modeling_clean['threequarterbathnbr'].fillna(0)\n",
    "df_modeling_clean['fireplacecnt'] = df_modeling_clean['fireplacecnt'].fillna(0)\n",
    "df_modeling_clean['pooltypeid7'] = df_modeling_clean['pooltypeid7'].fillna(0)\n",
    "df_modeling_clean['poolcnt'] = df_modeling_clean['poolcnt'].fillna(0)\n",
    "df_modeling_clean['garagecarcnt'] = df_modeling_clean['garagecarcnt'].fillna(0)\n",
    "df_modeling_clean['garagetotalsqft'] = df_modeling_clean['garagetotalsqft'].fillna(0)\n",
    "\n",
    "# Fill median for selected numerical features\n",
    "for col in [\n",
    "    'finishedfloor1squarefeet', 'finishedsquarefeet50', 'numberofstories',\n",
    "    'unitcnt', 'finishedsquarefeet12', 'fullbathcnt', 'calculatedbathnbr',\n",
    "    'lotsizesquarefeet'  # added here\n",
    "]:\n",
    "    median_value = df_modeling_clean[col].median()\n",
    "    df_modeling_clean[col] = df_modeling_clean[col].fillna(median_value)\n",
    "\n",
    "# Fill mode for selected categorical features\n",
    "for col in [\n",
    "    'airconditioningtypeid', 'heatingorsystemtypeid',\n",
    "    'buildingqualitytypeid', 'regionidcity', 'regionidzip'\n",
    "]:\n",
    "    mode_value = df_modeling_clean[col].mode().iloc[0]\n",
    "    df_modeling_clean[col] = df_modeling_clean[col].fillna(mode_value)\n",
    "\n",
    "# Fill 'Unknown' for regionidneighborhood\n",
    "df_modeling_clean['regionidneighborhood'] = df_modeling_clean['regionidneighborhood'].astype('str').fillna(\"Unknown\")\n",
    "\n",
    "# Final check\n",
    "df_modeling_clean.isnull().sum().sort_values(ascending=False).head(10)\n"
   ]
  },
  {
   "cell_type": "markdown",
   "id": "e429a9e9",
   "metadata": {},
   "source": [
    "Next, we detect all object- or category-typed columns—in this case just `regionidneighborhood`—and one-hot encode them. Notice how this inflates our feature matrix to 509 columns of mostly sparse dummies.  \n",
    " \n",
    "Based on our reflection in the begining of this exercise, we would replace this one-hot step with a smoothed target‐encoding of neighborhoods in the future to avoid such high dimensionality and improve model generalization.\n"
   ]
  },
  {
   "cell_type": "code",
   "execution_count": 13,
   "id": "a2addb5f",
   "metadata": {},
   "outputs": [
    {
     "name": "stdout",
     "output_type": "stream",
     "text": [
      "Categorical columns to encode: ['regionidneighborhood']\n",
      "Final shape after encoding: (76525, 509)\n"
     ]
    }
   ],
   "source": [
    "categorical_cols = df_modeling_clean.select_dtypes(include=['object', 'category']).columns.tolist()\n",
    "print(\"Categorical columns to encode:\", categorical_cols)\n",
    "\n",
    "# One-hot encode regionidneighborhood\n",
    "df_encoded = pd.get_dummies(df_modeling_clean, columns=categorical_cols, drop_first=True)\n",
    "\n",
    "print(\"Final shape after encoding:\", df_encoded.shape)"
   ]
  },
  {
   "cell_type": "markdown",
   "id": "2df7c220",
   "metadata": {},
   "source": [
    "Next, we expand our feature set and rank each engineered variable by its F-statistic against the target:\n",
    "\n",
    "1. Copy the cleaned data into `df_fe` and drop any remaining rows without `taxvaluedollarcnt`.  \n",
    "2. Apply log transforms to reduce skew on size and value measures (`calculatedfinishedsquarefeet`, `lotsizesquarefeet`, `landtaxvaluedollarcnt`).  \n",
    "3. Build interaction and polynomial features:  \n",
    "   - `bed_bath_ratio` = bedrooms/(bathrooms + 1)  \n",
    "   - `bed_bath_product` = bedrooms × bathrooms  \n",
    "   - `sqft_squared` = (calculatedfinishedsquarefeet)²  \n",
    "4. Standardize the core numeric columns for scale-sensitive models.  \n",
    "5. Compute and plot the top 15 features by F-statistic.  \n",
    "\n",
    "The results confirm that the log transforms (especially for finished square feet and lot size) and the bed–bath product are highly predictive. We’ll keep these top-ranked engineered features in our final model.\n"
   ]
  },
  {
   "cell_type": "code",
   "execution_count": 14,
   "id": "abd3a0a9",
   "metadata": {},
   "outputs": [
    {
     "data": {
      "image/png": "[encoded data removed]",
      "text/plain": [
       "<Figure size 1200x600 with 1 Axes>"
      ]
     },
     "metadata": {},
     "output_type": "display_data"
    }
   ],
   "source": [
    "# Start with a clean copy of the modeling dataset\n",
    "df_fe = df_modeling_clean.copy()\n",
    "\n",
    "# Drop rows with missing target value\n",
    "df_fe = df_fe[df_fe[\"taxvaluedollarcnt\"].notnull()]\n",
    "\n",
    "\n",
    "# Log transform of skewed continuous features\n",
    "log_features = [\"calculatedfinishedsquarefeet\", \"lotsizesquarefeet\", \"landtaxvaluedollarcnt\"]\n",
    "for col in log_features:\n",
    "    if col in df_fe.columns:\n",
    "        df_fe[f\"log_{col}\"] = np.log1p(df_fe[col])\n",
    "\n",
    "# Create interaction terms and polynomial features\n",
    "df_fe[\"bed_bath_ratio\"] = df_fe[\"bedroomcnt\"] / (df_fe[\"bathroomcnt\"] + 1)\n",
    "df_fe[\"bed_bath_product\"] = df_fe[\"bedroomcnt\"] * df_fe[\"bathroomcnt\"]\n",
    "df_fe[\"sqft_squared\"] = df_fe[\"calculatedfinishedsquarefeet\"] ** 2\n",
    "\n",
    "# Standardize numeric features (mean = 0, std = 1)\n",
    "scale_cols = [\"calculatedfinishedsquarefeet\", \"bedroomcnt\", \"bathroomcnt\"]\n",
    "scaler = StandardScaler()\n",
    "scaled_features = scaler.fit_transform(df_fe[scale_cols])\n",
    "df_scaled = pd.DataFrame(scaled_features, columns=[f\"scaled_{col}\" for col in scale_cols], index=df_fe.index)\n",
    "\n",
    "# Merge scaled features back into the main DataFrame\n",
    "df_fe = pd.concat([df_fe, df_scaled], axis=1)\n",
    "\n",
    "# Prepare input matrix X and target y\n",
    "numeric_X = df_fe.select_dtypes(include=[\"number\"]).drop(columns=[\"taxvaluedollarcnt\"])\n",
    "y = df_fe[\"taxvaluedollarcnt\"]\n",
    "\n",
    "# Drop NaNs just in case\n",
    "X_clean = numeric_X.dropna()\n",
    "y_clean = y.loc[X_clean.index]\n",
    "\n",
    "# Compute F-statistics\n",
    "f_vals, _ = f_regression(X_clean, y_clean)\n",
    "f_scores = pd.Series(f_vals, index=X_clean.columns).sort_values(ascending=False)\n",
    "\n",
    "# Plot top 15 features by F-stat\n",
    "plt.figure(figsize=(12, 6))\n",
    "f_scores.head(15).plot(kind=\"bar\", color=\"teal\", edgecolor=\"black\")\n",
    "plt.title(\"Top 15 Features by F-Statistic\")\n",
    "plt.ylabel(\"F-Score\")\n",
    "plt.xticks(rotation=45, ha=\"right\")\n",
    "plt.tight_layout()\n",
    "plt.show()\n"
   ]
  },
  {
   "cell_type": "markdown",
   "id": "d9112c75",
   "metadata": {},
   "source": [
    "Next, we load the cleaned dataset from Milestone 1, preview its first rows, then separate the predictors (`X`) from the target (`taxvaluedollarcnt`). We split into an 80/20 train/test split and fit a `StandardScaler` on the training features—reserving the same scaling for our hold‐out set to ensure consistency.\n"
   ]
  },
  {
   "cell_type": "code",
   "execution_count": 15,
   "id": "3082fe51",
   "metadata": {},
   "outputs": [],
   "source": [
    "# Load the dataset from Milestone 1\n",
    "df = pd.read_csv(\"zillow_cleaned.csv\")\n",
    "\n",
    "# Display the first 5 rows\n",
    "df.head()\n",
    "\n",
    "\n",
    "# Separate the features and the target variable\n",
    "X = df.drop(\"taxvaluedollarcnt\", axis=1)\n",
    "y = df[\"taxvaluedollarcnt\"]\n",
    "\n",
    "\n",
    "# Train Test Split\n",
    "X_train, X_test, y_train, y_test = train_test_split(X, y, test_size=0.2, random_state=42)\n",
    "\n",
    "\n",
    "# Standardize the Features\n",
    "scaler = StandardScaler()\n",
    "\n",
    "X_train_scaled = scaler.fit_transform(X_train)\n",
    "X_test_scaled = scaler.transform(X_test) # We won't use this until final evaluation"
   ]
  },
  {
   "cell_type": "markdown",
   "id": "9866a5de",
   "metadata": {},
   "source": [
    "Next, we add a suite of domain‐informed features to capture non-linear and geographic effects:\n",
    "\n",
    "1. **Log Lot Size** (`log_lotsize`): reduces skew in lot area.  \n",
    "2. **Quality × Size** (`qual_size`): interaction of building quality and finished square feet.  \n",
    "3. **Coordinate Scaling & Distance**:  \n",
    "   - Divide raw latitude/longitude by 1e6 to get proper degrees.  \n",
    "   - Compute Haversine distance from downtown LA (`dist_to_downtown`).  \n",
    "4. **Property Age** (`property_age`): current year (2016) minus year built.  \n",
    "5. **Total Bathrooms** (`total_bathrooms`): combines full, three-quarter, and half baths into a single metric.  \n",
    "6. **Garage per Car** (`garage_per_car`): garage square footage per parking spot.  \n",
    "7. **Room Density** (`room_density`): rooms per finished square foot.\n",
    "\n",
    "These engineered features consistently ranked among our top performers in Milestone 2’s feature‐selection step, so we’ll include them in the final model.  \n"
   ]
  },
  {
   "cell_type": "code",
   "execution_count": 16,
   "id": "233fdcb4",
   "metadata": {},
   "outputs": [],
   "source": [
    "# Make a copy of the original dataframe for Feature Engineering\n",
    "X_train_fe = X_train.copy()\n",
    "\n",
    "# Log Transformation of Lot Size\n",
    "X_train_fe[\"log_lotsize\"] = np.log1p(X_train_fe[\"lotsizesquarefeet\"])\n",
    "\n",
    "# Interaction Term: Quality * Size\n",
    "X_train_fe[\"qual_size\"] = X_train_fe[\"buildingqualitytypeid\"] * X_train_fe[\"calculatedfinishedsquarefeet\"]\n",
    "\n",
    "# Convert lat/lon to proper scale\n",
    "X_train_fe['latitude'] = X_train_fe['latitude'] / 1e6\n",
    "X_train_fe['longitude'] = X_train_fe['longitude'] / 1e6\n",
    "\n",
    "# Distance to Downtown LA\n",
    "X_train_fe[['latitude', 'longitude']] /= 1e6 # Divide by 1,000,000 to match actual coordinates\n",
    "lat1, lon1 = np.radians(X_train_fe['latitude']), np.radians(X_train_fe['longitude'])\n",
    "X_train_fe['dist_to_downtown'] = 6371 * 2 * np.arcsin(np.sqrt(np.sin((np.radians(34.0522) - lat1)/2)**2 + np.cos(lat1) * np.cos(np.radians(34.0522)) * np.sin((np.radians(-118.2437) - lon1)/2)**2))\n",
    "\n",
    "# Age of the property\n",
    "X_train_fe[\"property_age\"] = 2016 - X_train_fe[\"yearbuilt\"]\n",
    "\n",
    "# Total bathrooms \n",
    "X_train_fe[\"total_bathrooms\"] = (\n",
    "    X_train_fe[\"fullbathcnt\"].fillna(0)\n",
    "    + 0.75 * X_train_fe[\"threequarterbathnbr\"].fillna(0)\n",
    "    + 0.5 * (X_train_fe[\"bathroomcnt\"] - X_train_fe[\"fullbathcnt\"].fillna(0))\n",
    ")\n",
    "\n",
    "# Garage capacity\n",
    "X_train_fe[\"garage_per_car\"] = X_train_fe[\"garagetotalsqft\"] / (X_train_fe[\"garagecarcnt\"] + 1)\n",
    "\n",
    "# Room Density\n",
    "X_train_fe[\"room_density\"] = X_train_fe[\"roomcnt\"] / (X_train_fe[\"calculatedfinishedsquarefeet\"] + 1)\n"
   ]
  },
  {
   "cell_type": "markdown",
   "id": "dce548ba-c1ce-4a66-8885-9f7e40b1c404",
   "metadata": {},
   "source": [
    "## Part B: Final Data Science Project Report Assignment [30 pts]\n",
    "\n",
    "This final report is the culmination of your semester-long Data Science project, building upon the exploratory analyses and modeling milestones you've already completed. Your report should clearly communicate your findings, analysis approach, and conclusions to a technical audience. The following structure and guidelines, informed by best practices, will help you prepare a professional and comprehensive document.\n",
    "\n",
    "### Required Sections\n",
    "\n",
    "Your report must include the following sections:\n"
   ]
  },
  {
   "cell_type": "markdown",
   "id": "a01d6069-cf27-4312-8e4b-8c27fa6cf9d0",
   "metadata": {},
   "source": [
    "#### 1. Executive Summary (Abstract) [2 pts]\n",
    "- Brief overview of the entire project (150–200 words)\n",
    "- Clearly state the objective, approach, and key findings"
   ]
  },
  {
   "cell_type": "markdown",
   "id": "f51bc7a8-eac5-4dba-9052-d3fbf29adaf6",
   "metadata": {},
   "source": []
  },
  {
   "cell_type": "markdown",
   "id": "5edd854f-857f-41a2-983a-845c99a87153",
   "metadata": {},
   "source": [
    "#### 2. Introduction [2 pts]\n",
    "- Clearly introduce the topic and context of your project\n",
    "- Describe the problem you are addressing (the problem statement)\n",
    "- Clearly state the objectives and goals of your analysis\n",
    "\n",
    "Note: You may imaginatively consider this project as taking place in a real estate company with a small data science group in-house, and write your introduction from this point of view (don't worry about verisimilitude to an actual company!).  "
   ]
  },
  {
   "cell_type": "markdown",
   "id": "bfcf823c-453c-40ba-89f0-07826b9adf7a",
   "metadata": {},
   "source": []
  },
  {
   "cell_type": "markdown",
   "id": "a6394185-1992-469c-b475-05bd473327b1",
   "metadata": {},
   "source": [
    "#### 3. Data Description [2 pts]\n",
    "- Describe the source of your dataset (described in Milestone 1)\n",
    "- Clearly state the characteristics of your data (size, types of features, missing values, target, etc.)"
   ]
  },
  {
   "cell_type": "markdown",
   "id": "6a47de29-d135-4312-a46b-97427c8b1ca4",
   "metadata": {},
   "source": []
  },
  {
   "cell_type": "markdown",
   "id": "db7d906a-bd9a-42f8-8eb4-7bba1b1b108a",
   "metadata": {},
   "source": [
    "#### 4. Methodology (What you did, and why)  [12 pts]\n",
    "\n",
    "**Focus this section entirely on the steps you took and your reasoning behind them. Emphasize the process and decision-making, not the results themselves**\n",
    "\n",
    "- Describe your analytical framework \n",
    "  - Use of validation curves to see the effect of various hyperparameter choices, and\n",
    "  - Choice of RMSE as primary error metric\n",
    "- Clearly outline your data cleaning and preprocessing steps\n",
    "  - Describe what issues you encountered in the raw data and how you addressed them.\n",
    "  - Mention any key decisions (e.g., removing samples with too many missing values).\n",
    "  - What worked and what didn't work?\n",
    "- Describe your feature engineering approach\n",
    "  - Explain any transformations, combinations, or derived features.\n",
    "  - Discuss why certain features were chosen or created, even if they were later discarded.\n",
    "  - What worked and what didn't work?\n",
    "- Detail your model selection process \n",
    "  - Outline the models you experimented with and why.\n",
    "  - Discuss how you evaluated generalization (e.g., cross-validation, shape and relationships of plots).\n",
    "  - Mention how you tuned hyperparameters or selected the final model.\n",
    "\n"
   ]
  },
  {
   "cell_type": "markdown",
   "id": "276de7c1-71ab-4bca-b1d4-e78979cbd0b2",
   "metadata": {},
   "source": []
  },
  {
   "cell_type": "markdown",
   "id": "4305c55a-370f-4083-8cb6-395545ff1013",
   "metadata": {},
   "source": [
    "#### 5. Results and Evaluation (What you found, and how well it worked) [10 pts]\n",
    "\n",
    "**Focus purely on outcomes, with metrics, visuals, and insights. This is where you present evidence to support your conclusions.**\n",
    "\n",
    "- Provide a clear and detailed narrative of your analysis and reasoning using the analytical approach described in (4). \n",
    "- Discuss model performance metrics and results (RMSE, R2, etc.)\n",
    "- **Include relevant visualizations (graphs, charts, tables) with appropriate labels and captions**\n",
    "- Error analysis\n",
    "  - Highlight specific patterns of error, outliers, or questionable features.\n",
    "  - Note anything surprising or worth improving in future iterations.\n"
   ]
  },
  {
   "cell_type": "markdown",
   "id": "7615213f-7689-47fe-ac5a-24a767faaae5",
   "metadata": {},
   "source": []
  },
  {
   "cell_type": "markdown",
   "id": "c97153d2-e099-4c15-99f8-ad0b6a539d4b",
   "metadata": {},
   "source": [
    "#### 6. Conclusion [2 pts]\n",
    "- Clearly state your main findings and how they address your original objectives\n",
    "- Highlight the business or practical implications of your findings \n",
    "- Discuss the limitations and constraints of your analysis clearly and transparently\n",
    "- Suggest potential improvements or future directions"
   ]
  },
  {
   "cell_type": "markdown",
   "id": "8287f955-7ae0-41ec-864d-44765c60ffe7",
   "metadata": {},
   "source": []
  }
 ],
 "metadata": {
  "kernelspec": {
   "display_name": "Python 3 (ipykernel)",
   "language": "python",
   "name": "python3"
  },
  "language_info": {
   "codemirror_mode": {
    "name": "ipython",
    "version": 3
   },
   "file_extension": ".py",
   "mimetype": "text/x-python",
   "name": "python",
   "nbconvert_exporter": "python",
   "pygments_lexer": "ipython3",
   "version": "3.9.6"
  }
 },
 "nbformat": 4,
 "nbformat_minor": 5
}
